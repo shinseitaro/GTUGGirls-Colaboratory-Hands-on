{
  "nbformat": 4,
  "nbformat_minor": 0,
  "metadata": {
    "colab": {
      "name": "first colab.ipynb",
      "provenance": [],
      "collapsed_sections": [],
      "mount_file_id": "1kZGn11w0bJ6S-mL6tcwKP3_1E0pb7SqD",
      "authorship_tag": "ABX9TyMAOEScQ5HDFfu3AmS/gJq0",
      "include_colab_link": true
    },
    "kernelspec": {
      "name": "python3",
      "display_name": "Python 3"
    },
    "language_info": {
      "name": "python"
    }
  },
  "cells": [
    {
      "cell_type": "markdown",
      "metadata": {
        "id": "view-in-github",
        "colab_type": "text"
      },
      "source": [
        "<a href=\"https://colab.research.google.com/github/shinseitaro/GTUGGirls-Colaboratory-Hands-on/blob/main/first_colab.ipynb\" target=\"_parent\"><img src=\"https://colab.research.google.com/assets/colab-badge.svg\" alt=\"Open In Colab\"/></a>"
      ]
    },
    {
      "cell_type": "markdown",
      "metadata": {
        "id": "yJ5NNu6DAlA4"
      },
      "source": [
        "# GTUG Girls はじめての Colaboratory \n",
        "\n",
        "Google Colaboratory (略して Colab) の使い方をザックリお伝えします"
      ]
    },
    {
      "cell_type": "markdown",
      "metadata": {
        "id": "bRxgM2kb5TvM"
      },
      "source": [
        "## 前準備\n",
        "\n",
        "1. Gmail Account\n",
        "1. 今まで一度も colab を使ったことがない方\n",
        "    1. https://drive.google.com/drive/u/0/my-drive\n",
        "    1. 新規 > その他 > アプリを追加 > `colaboratory` を検索 > インストール\n",
        "1. https://drive.google.com/drive/u/0/my-drive で新規 > その他 > Google Colaboratoryを選んで新規作成\n"
      ]
    },
    {
      "cell_type": "markdown",
      "metadata": {
        "id": "lHowndPRKv9L"
      },
      "source": [
        "## Colabとは\n",
        "\n",
        "- python その他 jupyter notebook が実行出来る環境を一時的な仮想マシンで提供してくれる、Google のWeb Application\n",
        "- Linuxコマンドがたたける\n",
        "    ```\n",
        "    !ls\n",
        "    ```\n",
        "- 一定時間実行せずに放置しておくと、仮想マシンは削除される\n",
        "\n"
      ]
    },
    {
      "cell_type": "markdown",
      "metadata": {
        "id": "6_xzm4b-7qck"
      },
      "source": [
        "## notebook 作成\n",
        "\n",
        "1. Google Drive で `新規 > その他 > Google Colaboratory`\n",
        "1. 新規ノートブックを開いた時は `Untitled0.ipynb`\n",
        "1. 左上のファイル名を選択すると、名前が変更出来る"
      ]
    },
    {
      "cell_type": "markdown",
      "metadata": {
        "id": "56uFYu-t6YTh"
      },
      "source": [
        "## コーギーモード / ネコモード\n",
        "\n",
        "1. `ツール` > `設定` > `その他` > `コーギーモード` / `ネコモード` に✔\n",
        "1. （自分の生産性を著しく落とすので、私は設定を外しています）"
      ]
    },
    {
      "cell_type": "markdown",
      "metadata": {
        "id": "mZULc7USQ2hO"
      },
      "source": [
        "## ダークモード\n",
        "\n",
        "1. `ツール` > `設定` > `サイト` > `テーマ`"
      ]
    },
    {
      "cell_type": "markdown",
      "metadata": {
        "id": "fC370e2pQm9R"
      },
      "source": [
        "## セル\n",
        "\n",
        "+ コード : python の実行コードを書く場所\n",
        "+ テキスト : MarkdownやHTMLで文章を書く場所"
      ]
    },
    {
      "cell_type": "markdown",
      "metadata": {
        "id": "2E41lLNC8tIr"
      },
      "source": [
        "## コーディング\n",
        "\n",
        "1. **コードモードで開いたセル**上で、Pythonなどのプログラミングが出来る\n",
        "1. セルの追加方法はいくつかあるので好きなものを選んで下さい。どの方法でも現在有効であるセルのすぐ下に追加されます。\n",
        "    1. 挿入 > コードセル\n",
        "    1. 各セルの下の方にカーソルを合わせる現れるコードボタンを押す\n",
        "    1. ショートカットキー\n",
        "        - ctrl + M + B\n",
        "        - (mac は聞く) \n",
        "    1. セルの実行時、下記ショートカットキーで実行すると実行と同時に追加セルが開く\n",
        "        - alt + Enter \n",
        "        - (mac は聞く) \n",
        "    1. 多分ほかにもある\n",
        "1. 実行\n",
        "    1. 新規セルを作成してコードを書く\n",
        "        ```python\n",
        "        1 + 1\n",
        "        ```\n",
        "    1. 実行\n",
        "        - セルの左にある ▶ ボタンを押す\n",
        "        - **`ctrl` + `Enter`**\n",
        "        - (mac は聞く) \n",
        "    - **セルの最後に書いたコードが return され表示**される。途中を表示したい場合は、print文が必要\n"
      ]
    },
    {
      "cell_type": "markdown",
      "metadata": {
        "id": "dvtxqbxLNNZ6"
      },
      "source": [
        "## ヘルプ表示\n",
        "\n",
        "- モジュール、関数、メソッドなどのヘルプを表示\n",
        "- `?` を直前につける\n",
        "```python\n",
        "import pandas as pd\n",
        "?pd.DataFrame\n",
        "```"
      ]
    },
    {
      "cell_type": "markdown",
      "metadata": {
        "id": "1AgP_WvQQUgH"
      },
      "source": [
        "## Debug\n",
        "\n",
        "- デバッグや、Breakpointを設定する方法はあります\n",
        "- しかし、個人的には使いにくいし print 関数で十分だと思いますので割愛します\n",
        "- 気になるかたは参照をご確認下さい。\n",
        "    - 参照：[python - Google Colaboratoryでのデバッグのやり方 - スタック・オーバーフロー](https://ja.stackoverflow.com/questions/62955/google-colaboratory%e3%81%a7%e3%81%ae%e3%83%87%e3%83%90%e3%83%83%e3%82%b0%e3%81%ae%e3%82%84%e3%82%8a%e6%96%b9/62961#62961)\n",
        "\n"
      ]
    },
    {
      "cell_type": "markdown",
      "metadata": {
        "id": "YHdN4e_yN0Z8"
      },
      "source": [
        "## 描画\n",
        "\n",
        "- 実行セルのすぐ下に描画も出来る\n",
        "- データ分析などをやる人にとっては、colab (jupyter notebook）を使う最大のメリット\n",
        "- 例：日経平均株価CSVを描画(コードの説明はしません。知りたい方は個人的に聞いて下さい)\n",
        "\n",
        "```python\n",
        "import pandas as pd \n",
        "df = pd.read_csv(\"https://indexes.nikkei.co.jp/nkave/historical/nikkei_stock_average_daily_jp.csv\", encoding=\"sjis\")\n",
        "df = df.iloc[:-1]\n",
        "df[\"データ日付\"] = pd.to_datetime(df[\"データ日付\"])\n",
        "df = df.set_index(\"データ日付\")\n",
        "df.plot(figsize=(20,5))\n",
        "```\n",
        "- 【**☹ムムッ☹**】描画は出来るけど日本語が化けている！\n",
        "\n"
      ]
    },
    {
      "cell_type": "markdown",
      "metadata": {
        "id": "GcteBp6HeVTO"
      },
      "source": [
        "### 日本語豆腐問題\n",
        "\n",
        "- これは **日本語豆腐不可避** などと呼ばれている恐ろしい現象\n",
        "- デフォルトでは描画の日本語対応はありません\n",
        "- 以下のコードを実行することで回避可。下記実行後、もう一度日経の描画を実行してください\n",
        "\n",
        "```python\n",
        "!pip install japanize_matplotlib\n",
        "import matplotlib.pyplot as plt\n",
        "import japanize_matplotlib \n",
        "import seaborn as sns\n",
        "sns.set(font=\"IPAexGothic\")\n",
        "```\n"
      ]
    },
    {
      "cell_type": "markdown",
      "metadata": {
        "id": "_f6Trm2s-7iV"
      },
      "source": [
        "## テキスト\n",
        "\n",
        "- markdown / HTML でドキュメント作成可\n",
        "- 新規セルを `テキスト` で作成\n",
        "- markdown 記法の詳しい内容は[こちら](https://colab.research.google.com/notebooks/markdown_guide.ipynb)\n",
        "- Latex も書けるよ"
      ]
    },
    {
      "cell_type": "markdown",
      "metadata": {
        "id": "f309Ojit_pNI"
      },
      "source": [
        "## 目次\n",
        "\n",
        "1. markdown で書くと目次が自動作成される\n",
        "1. 左ペインの 三本線マークを押すと表示\n",
        "1. セルまでのハイパーリンクが挿入されているので地味に便利\n",
        "\n"
      ]
    },
    {
      "cell_type": "markdown",
      "metadata": {
        "id": "VGflqZN0_9T3"
      },
      "source": [
        "### セクション分け\n",
        "\n",
        "1. ヘッダーの数でセクション分けも可\n",
        "1. ただし、新規テキストセルを作成すること\n",
        "    - 各セルの先頭に出てきたHeaderだけが目次として読み込まれるようです\n",
        "\n",
        "#### test1 (これは目次には表示されていない)\n"
      ]
    },
    {
      "cell_type": "markdown",
      "metadata": {
        "id": "ubOHTm7vAOjt"
      },
      "source": [
        "#### テスト2（これは表示されている）"
      ]
    },
    {
      "cell_type": "markdown",
      "metadata": {
        "id": "y_MJf9gJBlJv"
      },
      "source": [
        "## ライブラリ\n",
        "\n",
        "- サードライブラリを含め colab を作成した時点で使えるライブラリ多数。\n",
        "- 何がインストールされているか確認したいなら\n",
        "    ```\n",
        "    !pip freeze\n",
        "    ```\n",
        "- pip: python のパッケージ管理ツール\n"
      ]
    },
    {
      "cell_type": "markdown",
      "metadata": {
        "id": "C5mVZbVoCS3E"
      },
      "source": [
        "## 新規インストール\n",
        "\n"
      ]
    },
    {
      "cell_type": "markdown",
      "metadata": {
        "id": "M8AJpUA8PTmT"
      },
      "source": [
        "### pip\n",
        "\n",
        "- デフォルトでインストールされている python library 以外のものをインストールしたい場合、`pip` を使ってインストール可\n",
        "- 例：\n",
        "    1. セルを開いて下記記述\n",
        "    ```python\n",
        "    from requests_html import HTMLSession\n",
        "    session = HTMLSession()\n",
        "    r = session.get('https://python.org/')\n",
        "    r.status_code\n",
        "    ```\n",
        "    1. 実行＝＞Error\n",
        "    1. `requests-html` をインストール\n",
        "    ```\n",
        "    !pip install requests-html\n",
        "    ```\n",
        "    1. さっきのコードを再実行 > 無事200が返る\n",
        "- 一度インストールしたライブラリは **ランタイムが切れるまで** 有効。切れた場合は再度 pip する\n"
      ]
    },
    {
      "cell_type": "markdown",
      "metadata": {
        "id": "RcTc3WZuPVy6"
      },
      "source": [
        "### apt-get\n",
        "\n",
        "- `!apt-get` で インストール可\n",
        "    ```\n",
        "    !apt-get install tree\n",
        "    !tree ./\n",
        "    ```"
      ]
    },
    {
      "cell_type": "markdown",
      "metadata": {
        "id": "7f8WgGKkJPO9"
      },
      "source": [
        "## 外部ファイル読み込み"
      ]
    },
    {
      "cell_type": "markdown",
      "metadata": {
        "id": "uUDSe6wKJdID"
      },
      "source": [
        "### ファイルを直接 ドラッグ & ドロップ\n",
        "1. 左ペインのホルダマークをクリック\n",
        "1. `sample_data` というホルダが表示される\n",
        "    - 初めての場合は表示されるまで５秒くらい時間がかかることもある\n",
        "1. この状態になったら、ローカルのファイルを左のペインに向かってドラッグ & ドロップ\n",
        "    - `注: アップロードしたファイルはランタイムのリサイクル時に削除されます。\n",
        "` というメッセージが出る通り、このランタイムが終了（＝仮想マシンが終了）したタイミングでUploadしたファイルも削除される\n"
      ]
    },
    {
      "cell_type": "markdown",
      "metadata": {
        "id": "4rdO3npQJW2i"
      },
      "source": [
        "### Google Drive をマウント\n",
        "\n",
        "1. 左ペインのホルダマークをクリック\n",
        "1. 上の方に、グーグルドライブマークがついたホルダのアイコンをクリック\n",
        "    + これも表示されるまでちょっと時間がかかることもある\n",
        "1. `Permit this notebook to access your Google Drive files?` といったメッセージが出るのでOK的なボタンを押す\n",
        "1. もしくは、下記のコードがセルに自動生成されるかもしれないのでそれを実行する。\n",
        "    ```python\n",
        "    from google.colab import drive\n",
        "    drive.mount('/content/drive')\n",
        "    ```\n",
        "    実行後、Permissionを要求されるのでそれに従う\n",
        "1. Google Driveに接続すると、左ペインで `drive` ホルダを確認出来るハズ\n",
        "1. `drive/MyDrive/`の配下がみなさんの https://drive.google.com/drive/my-drive と同じ構成になっていることを確認\n"
      ]
    },
    {
      "cell_type": "markdown",
      "metadata": {
        "id": "FjkqmCJsr75l"
      },
      "source": [
        "### Google Drive に入れたファイルへのパス\n",
        "\n",
        "1. ファイルを選ぶ\n",
        "1. `右クリック > パスをコピー` で取得可\n",
        "\n"
      ]
    },
    {
      "cell_type": "markdown",
      "metadata": {
        "id": "zOsbKbc476_K"
      },
      "source": [
        "### Google Spreadsheet\n",
        "\n",
        "- (詳しくは本家の[Document](https://colab.research.google.com/notebooks/io.ipynb#scrollTo=sOm9PFrT8mGG\n",
        ")を参照してください）\n",
        "- 以下のコードを実行すると、認証が走るので言われたとおりに認証してください\n"
      ]
    },
    {
      "cell_type": "code",
      "metadata": {
        "id": "915z7c9D9vGe"
      },
      "source": [
        "from google.colab import auth\n",
        "auth.authenticate_user()\n",
        "\n",
        "import gspread\n",
        "from oauth2client.client import GoogleCredentials\n",
        "\n",
        "gc = gspread.authorize(GoogleCredentials.get_application_default())\n",
        "\n"
      ],
      "execution_count": null,
      "outputs": []
    },
    {
      "cell_type": "code",
      "metadata": {
        "id": "eFBTKe6B9Hv8"
      },
      "source": [
        "# 開きたい spreadsheet のファイル名とシート番号を ws に格納\n",
        "# 注意：パスではなくファイル名でOK\n",
        "# 階層違いで同じ名前のファイルが存在する場合は、浅い階層のファイルが有効みたい\n",
        "ws = gc.open(\"gtugtest_spreadsheet\").sheet1\n",
        "# データを取得\n",
        "rows = ws.get_all_values()\n",
        "rows"
      ],
      "execution_count": null,
      "outputs": []
    },
    {
      "cell_type": "markdown",
      "metadata": {
        "id": "4HKbfhouEf7Z"
      },
      "source": [
        "## 共有\n"
      ]
    },
    {
      "cell_type": "markdown",
      "metadata": {
        "id": "dq5YCxexI3dY"
      },
      "source": [
        "### 直接共有\n",
        "\n",
        "- 右上の共有ボタン\n",
        "    - 閲覧者、閲覧者（コメント可）、編集者とモードを設定可\n",
        "- メリット\n",
        "    - サクッとシェア出来る\n",
        "- デメリット\n",
        "    - メアドがバレる"
      ]
    },
    {
      "cell_type": "markdown",
      "metadata": {
        "id": "vq8vgUK1I37m"
      },
      "source": [
        "### Gist / Github 経由\n",
        "\n",
        "- github のアカウントを持っていることが前提\n",
        "\n",
        "#### Gist\n",
        "1. `File > Copy を Github Gist として保存`\n",
        "1. 承認的なものが走る\n",
        "1. https://gist.github.com/ に同じファイル名でコピーが作成されているのを確認\n",
        "1. コピーはSecretモードでシェアされている\n",
        "    - Secretモードは、URLを知っているひとだけがアクセス可。\n",
        "    - Public に シェアしたい場合は\n",
        "        - edit > make public\n",
        "        - public に変更すると secret には戻れない\n",
        "1. 修正したい場合\n",
        "    - open in colab でファイルを開く\n",
        "    - file名の横のアイコンが Github のネコアイコンであることを確認\n",
        "    - 適当に変更を加えた後に、保存すると gist の方に保存される。\n",
        "    - Gistに入ったファイルは元のファイルのコピーであって、Google Driveに作ったファイルとは別ファイル。同期はされない。\n",
        "    \n",
        "\n",
        "#### Github\n",
        "- Github から notebook をロードして使うことも出来るし、Githubに保存するのも出来る\n",
        "- ロード時に認証しなくてもOK\n",
        "\n",
        "1. Publicのレポジトリを用意。既存のレポジトリでも可。\n",
        "    - 新規で作る場合は、\n",
        "    - https://github.com/new から作成\n",
        "    - **README.md を作成しておく（何かしらのファイルがレポジトリにある状態を作る必要があるため）**\n",
        "1. 新しい colab を作成して、適当になにか書く\n",
        "1. `File > Github` にコピーを保存 \n",
        "1. Githubのレポジトリを選ぶポップアップが出てくるとおもうので指定\n",
        "    - ブランチも選べる\n",
        "    - `Colaboratory へのリンクを含める` にチェックを入れると、 `open in colab` ボタンが作成される\n",
        "1. OKを押すとGithubに遷移するのでファイルを確認\n",
        "1. 修正したい場合は、もとの colab に修正を加え、 `File > Github にコピーを保存` する\n",
        "    - **Repository は前回と一緒か確認**\n",
        "1. 削除したい場合は、 Githubから削除する\n",
        "\n"
      ]
    },
    {
      "cell_type": "markdown",
      "metadata": {
        "id": "UPR_1fe3xykr"
      },
      "source": [
        "### GithubやGistでシェアされたファイルの開き方と保存\n",
        "\n",
        "#### Gist \n",
        "\n",
        "1. [![Open In Colab](https://colab.research.google.com/assets/colab-badge.svg)]() を押してもらった後に、`file > ドライブにコピーを保存` などで保存してもらう\n",
        "\n",
        "#### Github \n",
        "\n",
        "1. [![Open In Colab](https://colab.research.google.com/assets/colab-badge.svg)]() を押してもらった後に、`ドライブにコピー` というボタンが出てくるので、これを押してもらってドライブに保存。\n",
        "1. デフォルトで、 `マイドライブ > Colab Notebook` に保存される\n"
      ]
    },
    {
      "cell_type": "markdown",
      "metadata": {
        "id": "pxyByhQCJ9tB"
      },
      "source": [
        "## フォーム\n",
        "\n",
        "- ローカルの jupyter notebook には無い機能。 \n",
        "- 全部は紹介しきれないので細かいところは、[ドキュメント](https://colab.research.google.com/notebooks/forms.ipynb#scrollTo=eFN7-fUKs-Bu)を見て下さい\n",
        "- 作り方\n",
        "    - `#@`という特別なコメントを使う\n",
        "        - `#@title` タイトルの作成\n",
        "        - `#@param` パラメータの作成\n",
        "        - `#@markdown` マークダウン作成\n",
        "- Tips: Formの方をダブルクリックするとコードが隠れる"
      ]
    },
    {
      "cell_type": "code",
      "metadata": {
        "id": "zwFnkPLGFpjz"
      },
      "source": [
        "#@title Stock Price Fetcher\n",
        "#@markdown ### 取得開始日\n",
        "startdate = '2018-03-12' #@param {type:\"date\"}\n",
        "\n",
        "#@markdown ### 取得終了日\n",
        "enddate = '2018-03-22' #@param {type:\"date\"}\n",
        "\n",
        "#@markdown ### 取得したいTicker\n",
        "ticker = \"AAPL\" #@param {type:\"string\"}\n",
        "\n",
        "\n",
        "!pip install yfinance\n",
        "import yfinance as yf\n",
        "\n",
        "t = yf.Ticker(ticker)\n",
        "df = t.history(start=startdate, end=enddate)\n",
        "df\n",
        "\n"
      ],
      "execution_count": null,
      "outputs": []
    },
    {
      "cell_type": "markdown",
      "metadata": {
        "id": "TbaYKVYkKCgA"
      },
      "source": [
        "## コードスニペット\n",
        "\n",
        "- 上記のフォームなど、よく使うコードはコードスニペットとして登録してある\n",
        "- 左ペインの `< >` マークを押すとスニペットを選択出来ます\n",
        "- スニペットの検索もできる\n",
        "    - 例: github でフィルタリング\n",
        "    - `Open files from GitHub` スニペットが出るので `→` を押してセルにコピー\n",
        "    \n",
        "\n",
        "\n",
        "\n"
      ]
    },
    {
      "cell_type": "markdown",
      "metadata": {
        "id": "cYG1g-rwfeXH"
      },
      "source": [
        "### カスタムコードスニペットの登録\n",
        "\n",
        "- 自作スニペットも登録可\n",
        "\n",
        "1. 新規でcolab を開く\n",
        "1. スニペット登録\n",
        "    1. 最初にヘッダー付きテキストでタイトル\n",
        "    1. 次にコードスニペット\n",
        "        ![](https://i.imgur.com/C79h0dm.jpg)\n",
        "1. notebook の URL をコピー\n",
        "1. `ツール > 設定 > Custom snippet notebook URL` にURLをペースト\n",
        "1. スニペットを引き込みたい notebook を一度リロードすると、 snippets filter からタイトル名で検索出来る\n",
        "1. スニペットを削除したい場合は `Custom snippet notebook URL` にURLの横の☓ボタンを押す\n",
        "\n",
        "**注意：**\n",
        "1. １ notebook に１スニペットしかダメみたい。（違ったら誰か教えて）\n",
        "1. 日本語のタイトルもダメみたい。\n"
      ]
    },
    {
      "cell_type": "markdown",
      "metadata": {
        "id": "eTqu5naxOhfB"
      },
      "source": [
        "## 参照\n",
        "\n",
        "### 使い方\n",
        "- [Colaboratory へようこそ - Colaboratory](https://colab.research.google.com/notebooks/intro.ipynb)\n",
        "- [Forms - Colaboratory](https://colab.research.google.com/notebooks/forms.ipynb#scrollTo=eFN7-fUKs-Bu)\n",
        "- [外部データ: ローカル ファイル、ドライブ、スプレッドシート、Cloud Storage - Colaboratory](https://colab.research.google.com/notebooks/io.ipynb#scrollTo=sOm9PFrT8mGG)\n",
        "- [Markdown Guide](https://colab.research.google.com/notebooks/markdown_guide.ipynb)\n",
        "- [python - Google Colaboratoryでのデバッグのやり方 - スタック・オーバーフロー](https://ja.stackoverflow.com/questions/62955/google-colaboratory%e3%81%a7%e3%81%ae%e3%83%87%e3%83%90%e3%83%83%e3%82%b0%e3%81%ae%e3%82%84%e3%82%8a%e6%96%b9/62961#62961)\n",
        "- [Google Colab Tips for Power Users](https://amitness.com/2020/06/google-colaboratory-tips/#21-custom-snippets)\n",
        "- [Jupyter Notebookのマジックコマンド（マジック関数）の使い方解説](https://miyukimedaka.com/2019/07/28/blog-0083-jupyter-notebook-magic-command-explanation/)\n",
        "- [【Google Colab】Matplotlib pyplotの日本語化　何気にやり方に迷う【Python】](https://tom2rd.sakura.ne.jp/wp/2019/11/18/post-10619/)\n",
        "\n",
        "\n",
        "### すごい使い方\n",
        "- [「if you want to make interactive stuff with python, highly recommend holoviews/bokeh/panel/streamlit. Here is one example, with holoviews (and yes, this works on colab, but response time is a bit slow) https://t.co/4fceRKHGaT」 / Twitter](https://twitter.com/Soumyaj15209314/status/1385582483090051075)\n",
        "- [python - Is there a general way to run Web Applications on Google Colab? - Stack Overflow](https://stackoverflow.com/questions/59741453/is-there-a-general-way-to-run-web-applications-on-google-colab)\n",
        "\n",
        "### イベント\n",
        "- [はんなりPython #41 「Google ColabでWebアプリ開発ハンズオン」 - connpass](https://hannari-python.connpass.com/event/211595/)\n",
        "\n",
        "\n",
        "\n"
      ]
    },
    {
      "cell_type": "code",
      "metadata": {
        "id": "jLp8Kh4PIir_"
      },
      "source": [
        ""
      ],
      "execution_count": null,
      "outputs": []
    }
  ]
}